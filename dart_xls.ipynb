{
 "cells": [
  {
   "cell_type": "markdown",
   "metadata": {},
   "source": [
    "# 연결 재무제표에서 자본총계와 부채총계값을 추출해서 그래프를 만듭니다"
   ]
  },
  {
   "cell_type": "code",
   "execution_count": null,
   "metadata": {
    "collapsed": true
   },
   "outputs": [],
   "source": [
    "import pandas as pd\n",
    "import os\n",
    "import re\n",
    "import matplotlib.pyplot as plt\n",
    "import seaborn as sns\n",
    "%matplotlib inline"
   ]
  },
  {
   "cell_type": "code",
   "execution_count": null,
   "metadata": {
    "scrolled": false
   },
   "outputs": [],
   "source": [
    "print('사업보고서가 저장된 회사:')\n",
    "#폴더명을 먼저 가져옵니다 (형식: 'dart_[회사명]')\n",
    "folderitems = os.listdir()\n",
    "#회사명만 분리해 목록을 뽑습니다\n",
    "for item in folderitems:\n",
    "    if '.' not in item:\n",
    "        if item.startswith('dart_'):\n",
    "            print(\"- \"+item.replace('dart_',''))"
   ]
  },
  {
   "cell_type": "code",
   "execution_count": null,
   "metadata": {
    "scrolled": false
   },
   "outputs": [],
   "source": [
    "inputcompany=input('저장된 사업보고서 중 조사하고자 하는 회사명을 입력해주세요:')\n",
    "testfile = 'dart_'+inputcompany+'/'\n",
    "while testfile.replace('/','') not in folderitems:\n",
    "    inputcompany=input('존재하는 회사명으로 다시 입력해주세요. ')\n",
    "    testfile = 'dart_'+inputcompany+'/'"
   ]
  },
  {
   "cell_type": "code",
   "execution_count": null,
   "metadata": {
    "collapsed": true
   },
   "outputs": [],
   "source": [
    "#각 폴더 내에 있는 엑셀파일을 찾아 디렉토리 목록을 저장합니다\n",
    "linklist=[]\n",
    "for item in os.listdir(testfile):\n",
    "    sublist = os.listdir(testfile+item)\n",
    "    for item2 in sublist:\n",
    "        if item2.endswith('.xls'):\n",
    "            filedirectory = testfile+item+\"/\"+item2\n",
    "            linklist.append(filedirectory)"
   ]
  },
  {
   "cell_type": "code",
   "execution_count": null,
   "metadata": {},
   "outputs": [],
   "source": [
    "if len(linklist) < 1:\n",
    "    print('사업보고서가 존재하지 않습니다.')\n",
    "else:\n",
    "    first_year = linklist[0].split('/')[1].split('(')[1].split('.')[0]\n",
    "    first_month = linklist[0].split('/')[1].split('(')[1].split('.')[1].replace(')','')\n",
    "    current_year = linklist[-1].split('/')[1].split('(')[1].split('.')[0]\n",
    "    accounting_month = linklist[-1].split('/')[1].split('(')[1].split('.')[1].replace(')','')\n",
    "    print('총 '+str(len(linklist))+'개의 크롤링 가능한 엑셀파일 ('+first_year+'년 '+first_month+'월 ~ '+current_year+'년 '+accounting_month+'월)')"
   ]
  },
  {
   "cell_type": "code",
   "execution_count": null,
   "metadata": {
    "collapsed": true
   },
   "outputs": [],
   "source": [
    "#각 행을 스캔해 \"제 XX 기\" 같은 표현이 등장하는 횟수를 score로 저장함 (엑셀시트 형식 당 skiprows를 해야 하는 숫자가 달라서 이걸 자동으로 찾아주기 위함)\n",
    "r_col = re.compile(r'제\\s*\\d{1,}\\s*기')\n",
    "def header_score(row):\n",
    "    score=0\n",
    "    for k,item in row.items():\n",
    "        if len(r_col.findall(str(item))) !=0:\n",
    "            score+=1\n",
    "    return score\n",
    "\n",
    "#TODO: 단위를 찾아주는 function을 만들어야 하는데... 머리가 아프다...\n",
    "\n",
    "#\"제 XX 기\" 표현이 가장 많이 등장하는 행을 header로 선정함\n",
    "def get_right_header(df):\n",
    "    header_row = df.fillna('').apply(header_score,axis=1).argmax()\n",
    "    newdf = df.iloc[header_row+1:]\n",
    "    newdf.columns = df.iloc[header_row].values\n",
    "    return newdf"
   ]
  },
  {
   "cell_type": "markdown",
   "metadata": {},
   "source": [
    "## 1. 재무제표 크롤링"
   ]
  },
  {
   "cell_type": "code",
   "execution_count": null,
   "metadata": {
    "collapsed": true
   },
   "outputs": [],
   "source": [
    "#재무 테이블을 깔끔하게 정리해주는 function\n",
    "def clean_table(jaemu):\n",
    "    #Changing the first column name to category\n",
    "    oldname = jaemu.columns[0]\n",
    "    clean = jaemu.rename(columns={oldname:'category'})\n",
    "    clean['category'] = clean.category.apply(str.strip)\n",
    "    indexlist = []\n",
    "    for index,row in clean.iterrows():\n",
    "        if (row.category == '부채총계') | (row.category == '자본총계'):\n",
    "            indexlist.append(index)\n",
    "    clean2 = clean.iloc[indexlist].copy()\n",
    "    return clean2"
   ]
  },
  {
   "cell_type": "code",
   "execution_count": null,
   "metadata": {
    "collapsed": true
   },
   "outputs": [],
   "source": [
    "def get_jaemu(wholetable, year):\n",
    "    wholetable_sheets = list(wholetable.keys())\n",
    "    if '대차대조표' in wholetable_sheets:\n",
    "        a = get_right_header(wholetable['대차대조표']).reset_index(drop=True)\n",
    "        print(str(year)+'년: 대차대조표')\n",
    "    elif '연결 재무상태표' in wholetable_sheets:\n",
    "        a = get_right_header(wholetable['연결 재무상태표']).reset_index(drop=True)\n",
    "        print(str(year)+'년: 연결 재무상태표')\n",
    "    elif '재무상태표' in wholetable_sheets:\n",
    "        a = get_right_header(wholetable['재무상태표']).reset_index(drop=True)\n",
    "        print(str(year)+'년: 재무상태표')\n",
    "    else:\n",
    "        b = wholetable_sheets[1]\n",
    "        print(str(year)+\"년: \"+b+\"(?)\")\n",
    "        a = get_right_header(wholetable[b]).reset_index(drop=True)\n",
    "    return clean_table(a)"
   ]
  },
  {
   "cell_type": "code",
   "execution_count": null,
   "metadata": {},
   "outputs": [],
   "source": [
    "getall = pd.DataFrame()\n",
    "#RegEx를 이용해서 '제 XX 기' (또는 '제XX기')로 명시된 기수를 숫자로 따로 추출합니다\n",
    "r = re.compile(r'(\\d+)')\n",
    "year_tracker = int(first_year)\n",
    "for item in linklist:\n",
    "    table = pd.read_excel(item, sheetname=None)\n",
    "    a = get_jaemu(table,year_tracker)\n",
    "    year_tracker+=1\n",
    "    melted = pd.melt(a, id_vars='category')\n",
    "    #RegEx 이용 부분...\n",
    "    melted['variable'] = melted.variable.apply(lambda x: r.findall(x)[0])\n",
    "    #위에서 만든 getsummary DataFrame에다가 append\n",
    "    getall = getall.append(melted).reset_index(drop=True).drop_duplicates()"
   ]
  },
  {
   "cell_type": "code",
   "execution_count": null,
   "metadata": {
    "collapsed": true
   },
   "outputs": [],
   "source": [
    "#Datatype 수정 (금액은 float, 기수는 int로 변경)\n",
    "getall['value'] = getall.value.astype(float)\n",
    "getall['variable'] = getall.variable.astype(int)"
   ]
  },
  {
   "cell_type": "code",
   "execution_count": null,
   "metadata": {
    "collapsed": true
   },
   "outputs": [],
   "source": [
    "#폴더명에서 추출한 최근 연도를 가지고 각 '기'에다가 더할 숫자를 구하고 (28기가 2016년이면 1988를 모든 '기'에 더해주면 연도가 나옴) 'variable' 열을 연도로 업데이트시켜줌\n",
    "addnumber = int(current_year)-max(getall.variable)\n",
    "getall['variable'] = getall.variable + addnumber"
   ]
  },
  {
   "cell_type": "code",
   "execution_count": null,
   "metadata": {},
   "outputs": [],
   "source": [
    "#pivot을 통해 그래프를 그리기 위한 적절한 형식의 dataframe를 만들어줌\n",
    "jaemutable = pd.pivot_table(getall,index='variable',values='value',columns='category').rename(columns={'부채총계':'total_debt','자본총계':'total_equity'})"
   ]
  },
  {
   "cell_type": "code",
   "execution_count": null,
   "metadata": {
    "scrolled": false
   },
   "outputs": [],
   "source": [
    "#그래프 그리기\n",
    "sns.set_context('poster')\n",
    "plt.figure(figsize=(16,9))\n",
    "jaemutable.plot.bar(stacked=True,ax=plt.gca(),colormap='tab10')\n",
    "plt.xlabel('')\n",
    "sns.despine()"
   ]
  },
  {
   "cell_type": "markdown",
   "metadata": {},
   "source": [
    "## 2. 손익계산서 크롤링"
   ]
  },
  {
   "cell_type": "code",
   "execution_count": null,
   "metadata": {
    "collapsed": true
   },
   "outputs": [],
   "source": [
    "#손익계산서를 깔끔하게 정리해주는 function\n",
    "def clean_sonik(df):\n",
    "    #Changing the first column name to category\n",
    "    oldname = df.columns[0]\n",
    "    clean = df.rename(columns={oldname:'category'})\n",
    "    clean['category'] = clean.category.apply(str.strip)\n",
    "    indexlist = []\n",
    "    for index,row in clean.iterrows():\n",
    "        if row.category.find('매출액') != -1:\n",
    "            indexlist.append(index)\n",
    "        if row.category.find('매출') != -1:\n",
    "            indexlist.append(index)\n",
    "    if len(indexlist) != 1:\n",
    "        indexlist = indexlist[:1]\n",
    "    for index,row in clean.iterrows():\n",
    "        if row.category.find('영업이익') != -1:\n",
    "            indexlist.append(index)\n",
    "    clean2 = clean.loc[indexlist].copy()\n",
    "    #TODO: 매출액은 두 개 이상 있으면 맨 처음 것이어야 하고\n",
    "    if len(clean2) !=2:\n",
    "        clean2 = clean2[:2]\n",
    "    return clean2"
   ]
  },
  {
   "cell_type": "code",
   "execution_count": null,
   "metadata": {
    "collapsed": true
   },
   "outputs": [],
   "source": [
    "def get_sonik(wholetable, year):\n",
    "    wholetable_sheets = list(wholetable.keys())\n",
    "    if '손익계산서' in wholetable_sheets:\n",
    "        a = get_right_header(wholetable['손익계산서']).reset_index(drop=True)\n",
    "        print(str(year)+'년: 손익계산서')\n",
    "    elif '포괄손익계산서' in wholetable_sheets:\n",
    "        a = get_right_header(wholetable['포괄손익계산서']).reset_index(drop=True)\n",
    "        print(str(year)+'년: 포괄손익계산서')\n",
    "    elif '연결 포괄손익계산서' in wholetable_sheets:\n",
    "        a = get_right_header(wholetable['연결 포괄손익계산서']).reset_index(drop=True)\n",
    "        print(str(year)+'년: 연결 포괄손익계산서')\n",
    "    else:\n",
    "        for item in wholetable_sheets:\n",
    "            if item.find('손익계산서') != -1:\n",
    "                a = get_right_header(wholetable[item]).reset_index(drop=True)\n",
    "                print(str(year)+'년: 손익계산서가 포함된 시트명')\n",
    "            else:\n",
    "                print(str(year)+\"년: 손익계산서를 찾지 못함\")\n",
    "                a=pd.DataFrame()\n",
    "    return clean_sonik(a)"
   ]
  },
  {
   "cell_type": "code",
   "execution_count": null,
   "metadata": {},
   "outputs": [],
   "source": [
    "#하나의 DataFrame로 통합하기 위해 빈 DataFrame을 우선 생성합니다\n",
    "soniksummary = pd.DataFrame()\n",
    "#RegEx를 이용해서 '제 XX 기' (또는 '제XX기')로 명시된 기수를 숫자로 따로 추출합니다\n",
    "r = re.compile(r'(\\d+)')\n",
    "#재무제표 엑셀파일이 존재하는 모든 폴더에 걸쳐, 위에서 만든 function을 이용해 정보를 가져오고 정리합니다\n",
    "year_tracker = int(first_year)\n",
    "for item in linklist:\n",
    "    table = pd.read_excel(item, sheetname=None)\n",
    "    get_table = get_sonik(table, year_tracker)\n",
    "    year_tracker+=1\n",
    "    #좀 더 정돈된 정보를 위해 기수를 하나의 열로 만들어줍니다 (melt function 이용)\n",
    "    melted = pd.melt(get_table, id_vars='category')\n",
    "    #RegEx 이용 부분...\n",
    "    melted['variable'] = melted.variable.apply(lambda x: r.findall(x)[0])\n",
    "    #위에서 만든 getsummary DataFrame에다가 append\n",
    "    soniksummary = soniksummary.append(melted).reset_index(drop=True).drop_duplicates()"
   ]
  },
  {
   "cell_type": "code",
   "execution_count": null,
   "metadata": {
    "collapsed": true
   },
   "outputs": [],
   "source": [
    "def rename_values(x):\n",
    "    if (x.find('매출') >= 0) or (x.find('영업수익') >=0):\n",
    "        return 'sales'\n",
    "    if x.find('영업이익') >=0:\n",
    "        return 'operating_profit'\n",
    "    return x"
   ]
  },
  {
   "cell_type": "code",
   "execution_count": null,
   "metadata": {
    "collapsed": true
   },
   "outputs": [],
   "source": [
    "soniksummary['category'] = soniksummary.category.apply(rename_values)"
   ]
  },
  {
   "cell_type": "code",
   "execution_count": null,
   "metadata": {
    "collapsed": true,
    "scrolled": false
   },
   "outputs": [],
   "source": [
    "#Datatype 수정 (금액은 float, 기수는 int로 변경)\n",
    "soniksummary['value'] = soniksummary.value.astype(float)\n",
    "soniksummary['variable'] = soniksummary.variable.astype(int)"
   ]
  },
  {
   "cell_type": "code",
   "execution_count": null,
   "metadata": {
    "collapsed": true
   },
   "outputs": [],
   "source": [
    "#폴더명에서 추출한 최근 연도를 가지고 각 '기'에다가 더할 숫자를 구하고 (28기가 2016년이면 1988를 모든 '기'에 더해주면 연도가 나옴) 'variable' 열을 연도로 업데이트시켜줌\n",
    "addnumber = int(current_year)-max(soniksummary.variable)\n",
    "soniksummary['variable'] = soniksummary.variable + addnumber"
   ]
  },
  {
   "cell_type": "code",
   "execution_count": null,
   "metadata": {
    "collapsed": true
   },
   "outputs": [],
   "source": [
    "#pivot을 통해 그래프를 그리기 위한 적절한 형식의 dataframe를 만들어줌\n",
    "sonikpivot = pd.pivot_table(soniksummary,index='variable',values='value',columns='category')"
   ]
  },
  {
   "cell_type": "code",
   "execution_count": null,
   "metadata": {
    "scrolled": false
   },
   "outputs": [],
   "source": [
    "#그래프 그리기\n",
    "sns.set_context('poster')\n",
    "plt.figure(figsize=(16,9))\n",
    "sonikpivot.plot.bar(stacked=False,ax=plt.gca(),colormap='tab10')\n",
    "plt.xlabel('')\n",
    "sns.despine()"
   ]
  },
  {
   "cell_type": "code",
   "execution_count": null,
   "metadata": {
    "collapsed": true
   },
   "outputs": [],
   "source": []
  }
 ],
 "metadata": {
  "kernelspec": {
   "display_name": "Python 3",
   "language": "python",
   "name": "python3"
  },
  "language_info": {
   "codemirror_mode": {
    "name": "ipython",
    "version": 3
   },
   "file_extension": ".py",
   "mimetype": "text/x-python",
   "name": "python",
   "nbconvert_exporter": "python",
   "pygments_lexer": "ipython3",
   "version": "3.6.2"
  }
 },
 "nbformat": 4,
 "nbformat_minor": 2
}
