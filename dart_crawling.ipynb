{
 "cells": [
  {
   "cell_type": "markdown",
   "metadata": {},
   "source": [
    "# DART.fss.or.kr에서 역대 사업보고서 다운로드하기"
   ]
  },
  {
   "cell_type": "code",
   "execution_count": 1,
   "metadata": {
    "collapsed": true
   },
   "outputs": [],
   "source": [
    "#json을 읽기 위해서 우선 requests가 필요하고...\n",
    "import requests\n",
    "import pandas as pd\n",
    "#나중에 등장하는 dcm_no의 xpath을 구하기 위한 lxml \n",
    "from lxml import html\n",
    "#RegEx를 나중에 쓰게 된다면 필요한 re\n",
    "import re\n",
    "\n",
    "%load_ext autoreload\n",
    "%autoreload 2\n",
    "\n",
    "from utils import *\n",
    "\n",
    "#위에 있는 download_file util 대신 curl을 이용할까 했으나 한국말을 못알아들어서 포기...\n",
    "from subprocess import call\n",
    "\n",
    "from fake_useragent import UserAgent"
   ]
  },
  {
   "cell_type": "markdown",
   "metadata": {},
   "source": [
    "API Key를 넣어주세요. [인증키 신청](http://dart.fss.or.kr/dsap001/apikeyManagement.do;jsessionid=Bs7AWiSzD8YmbBx0Zg3WoEixviKFJ7tL2OmeavY5lXpuYNh4MBmNjvvrgldaazhx.dart2_servlet_engine2)은 DART 계정을 만든 후 간단하게 할 수 있습니다"
   ]
  },
  {
   "cell_type": "code",
   "execution_count": 2,
   "metadata": {
    "collapsed": true
   },
   "outputs": [],
   "source": [
    "with open('api_key.txt','r') as f:\n",
    "    API_KEY = f.read()"
   ]
  },
  {
   "cell_type": "markdown",
   "metadata": {},
   "source": [
    "## 1. 원하는 회사의 사업보고서 링크 목록을 가져와봅시다. "
   ]
  },
  {
   "cell_type": "markdown",
   "metadata": {},
   "source": [
    "#### 1) 회사의 종목코드를 가져오세요. (엑셀 출처: [한국거래소 전자공시 홈페이지](http://kind.krx.co.kr/corpgeneral/corpList.do?method=loadInitPage))"
   ]
  },
  {
   "cell_type": "code",
   "execution_count": 3,
   "metadata": {
    "collapsed": true
   },
   "outputs": [],
   "source": [
    "#회사 정보가 들어있는 엑셀을 읽어오되, 종목코드는 int가 아닌 str로 가져와야 합니다 (안 그러면 앞의 0이 지워져서 나오게 돼요)\n",
    "#엑셀 source: http://kind.krx.co.kr/corpgeneral/corpList.do?method=loadInitPage\n",
    "company_codes = pd.read_excel('company_codes.xlsx',converters={'종목코드':str})"
   ]
  },
  {
   "cell_type": "code",
   "execution_count": 5,
   "metadata": {
    "scrolled": false
   },
   "outputs": [],
   "source": [
    "#회사명 입력란을 만들어요\n",
    "name_input = input('회사명을 입력해주세요: ')"
   ]
  },
  {
   "cell_type": "code",
   "execution_count": 6,
   "metadata": {
    "scrolled": true
   },
   "outputs": [
    {
     "name": "stdout",
     "output_type": "stream",
     "text": [
      "해당 이름의 회사명이 존재하지 않습니다. \n",
      "아래 회사명 중 하나를 찾으시나요? 다시 입력해주세요.\n",
      "\n",
      "알리코제약\n",
      "씨티케이코스메틱스\n",
      "샘코\n",
      "코미코\n",
      "핸즈코퍼레이션\n",
      "오가닉티코스메틱\n",
      "코스메카코리아\n",
      "엠에프엠코리아\n",
      "에코마케팅\n",
      "인터코스\n",
      "제이에스코퍼레이션\n",
      "코디엠\n",
      "코리아오토글라스\n",
      "현대코퍼레이션홀딩스\n",
      "바이오코아\n",
      "코아스템\n",
      "미코나노바이오시스\n",
      "토박스코리아\n",
      "화이브라더스코리아\n",
      "SKC코오롱PI\n",
      "슈피겐코리아\n",
      "캐스텍코리아\n",
      "코스맥스\n",
      "코셋\n",
      "엔브이에이치코리아\n",
      "아미코젠\n",
      "코렌텍\n",
      "지엠비코리아\n",
      "코이즈\n",
      "코오롱머티리얼\n",
      "쎄미시스코\n",
      "에스엠코어\n",
      "코오롱플라스틱\n",
      "디에이치피코리아\n",
      "코라오홀딩스\n",
      "코프라\n",
      "코렌\n",
      "휠라코리아\n",
      "코리아에프티\n",
      "아이마켓코리아\n",
      "코오롱인더\n",
      "KC코트렐\n",
      "코디\n",
      "코오롱생명과학\n",
      "코리아에스이\n",
      "동성코퍼레이션\n",
      "에스코넥\n",
      "이엠코리아\n",
      "에코프로\n",
      "알루코\n",
      "코닉글로리\n",
      "오스코텍\n",
      "코스맥스비티아이\n",
      "CSA 코스믹\n",
      "한국코퍼레이션\n",
      "와토스코리아\n",
      "아바코\n",
      "코아스\n",
      "텔코웨어\n",
      "코엔텍\n",
      "한솔홈데코\n",
      "코스온\n",
      "리더스코스메틱\n",
      "포스코강판\n",
      "아비코전자\n",
      "지엔코\n",
      "미코\n",
      "룽투코리아\n",
      "코위버\n",
      "포스코켐텍\n",
      "코미팜\n",
      "썬코어\n",
      "코나아이\n",
      "코데즈컴바인\n",
      "세코닉스\n",
      "코웨이\n",
      "코텍\n",
      "에코바이오\n",
      "포스코대우\n",
      "두산인프라코어\n",
      "코메론\n",
      "코다코\n",
      "포스코 ICT\n",
      "코아시아홀딩스\n",
      "위즈코프\n",
      "에코플라스틱\n",
      "코맥스\n",
      "파세코\n",
      "코리아나\n",
      "팜스코\n",
      "포스코엠텍\n",
      "스페코\n",
      "코웰패션\n",
      "코콤\n",
      "신도리코\n",
      "예스코\n",
      "리드코프\n",
      "제이준코스메틱\n",
      "지코\n",
      "대명코퍼레이션\n",
      "데코앤이\n",
      "대림비앤코\n",
      "코센\n",
      "하이록코리아\n",
      "이스타코\n",
      "포스코\n",
      "코스모신소재\n",
      "코스모화학\n",
      "코리아써키트\n",
      "인스코비\n",
      "코오롱글로벌\n",
      "신영와코루\n",
      "페이퍼코리아\n",
      "강남제비스코\n",
      "코오롱\n",
      "알보젠코리아\n",
      "코리안리\n",
      "해당 이름의 회사명이 존재하지 않습니다. \n",
      "아래 회사명 중 하나를 찾으시나요? 다시 입력해주세요.\n",
      "\n",
      "에코바이오\n",
      "해당 이름의 회사명이 존재하지 않습니다. \n",
      "아래 회사명 중 하나를 찾으시나요? 다시 입력해주세요.\n",
      "\n",
      "앱클론\n",
      "클리오\n",
      "클래시스\n",
      "클리오 종목코드: 237880\n"
     ]
    }
   ],
   "source": [
    "#입력된 회사명이 없으면 진행이 안돼요\n",
    "#CAVEAT: CJ같이 단독으로도 회사명이 존재하지만 CJ오쇼핑 같이 이게 포함된 회사명이 있는 경우, 찾아주지는 못합니다\n",
    "while len(company_codes[company_codes.회사명 ==  name_input]) == 0:\n",
    "    print('해당 이름의 회사명이 존재하지 않습니다. \\n아래 회사명 중 하나를 찾으시나요? 다시 입력해주세요.\\n')\n",
    "    for row in company_codes.회사명:\n",
    "        if row.find(name_input) != -1:\n",
    "            print(row)\n",
    "    name_input = input()\n",
    "code = company_codes[company_codes.회사명 == name_input].종목코드.iloc[0]\n",
    "print(name_input+\" 종목코드: \"+code)"
   ]
  },
  {
   "cell_type": "markdown",
   "metadata": {},
   "source": [
    "#### 2) 보고서 목록 URL을 생성하세요"
   ]
  },
  {
   "cell_type": "code",
   "execution_count": 7,
   "metadata": {
    "collapsed": true
   },
   "outputs": [],
   "source": [
    "#t시작날짜는 최초의 기업이 상장한 날짜인 1956년 3월보다 이전으로 잡았습니다\n",
    "start_date = '19560101'\n",
    "#Document type: 사업보고서\n",
    "bsn_tp = 'A001'"
   ]
  },
  {
   "cell_type": "code",
   "execution_count": 8,
   "metadata": {
    "collapsed": true
   },
   "outputs": [],
   "source": [
    "url = \"http://dart.fss.or.kr/api/search.json?auth=\"+API_KEY+\"&crp_cd=\"+code+\"&start_dt=\"+start_date+\"&bsn_tp=\"+bsn_tp+\"&fin_rpt=Y&page_set=100\""
   ]
  },
  {
   "cell_type": "markdown",
   "metadata": {},
   "source": [
    "#### 3) 개별 보고서 URL을 생성하세요"
   ]
  },
  {
   "cell_type": "code",
   "execution_count": 10,
   "metadata": {},
   "outputs": [],
   "source": [
    "ua = UserAgent()\n",
    "headers = {'User-Agent':ua.chrome}"
   ]
  },
  {
   "cell_type": "code",
   "execution_count": 11,
   "metadata": {
    "collapsed": true
   },
   "outputs": [],
   "source": [
    "#json 값을 추출합시다\n",
    "a = requests.get(url,headers=headers).json()"
   ]
  },
  {
   "cell_type": "code",
   "execution_count": 13,
   "metadata": {
    "scrolled": true
   },
   "outputs": [
    {
     "name": "stdout",
     "output_type": "stream",
     "text": [
      "사업보고서 (2016.12): http://dart.fss.or.kr/dsaf001/main.do?rcpNo=20170811001119\n"
     ]
    }
   ],
   "source": [
    "#각 사업보고서 당 리스트가 제대로 생성되는 지 봅시다. 하나도 없으면 코드 돌려봤자 아무것도 다운 안 됨\n",
    "urldict = {}\n",
    "for row in a['list']:\n",
    "    url2 = \"http://dart.fss.or.kr/dsaf001/main.do?rcpNo=\"\n",
    "    name = row['rpt_nm']\n",
    "    #[기재정정] [첨부추가] [첨부정정] 등 앞에 붙은 것을 제거해봅시다\n",
    "    if name.find('[') != -1:\n",
    "        name = name.split(']')[1]\n",
    "    urldict[name] = url2+row['rcp_no']\n",
    "    print(name+\": \"+url2+row['rcp_no'])"
   ]
  },
  {
   "cell_type": "markdown",
   "metadata": {},
   "source": [
    "## 2. 각 사업보고서의 첨부파일 리스트를 확인하고 다운로드합시다"
   ]
  },
  {
   "cell_type": "code",
   "execution_count": 14,
   "metadata": {
    "scrolled": true
   },
   "outputs": [
    {
     "name": "stdout",
     "output_type": "stream",
     "text": [
      "사업보고서 (2016.12) http://dart.fss.or.kr/pdf/download/main.do?rcp_no=20170811001119&dcm_no=5746878 다운 중... 1 out of 1\n"
     ]
    }
   ],
   "source": [
    "#카운터 선정\n",
    "n=1\n",
    "\n",
    "for key, value in urldict.items(): \n",
    "    #dcm_no 값을 알아야 다운로드 링크에 접근할 수 있는데, 알 방법이 링크에서 바로 가져오는 방법밖에 없으므로 xpath을 활용해서 알아봅시다\n",
    "    test = requests.get(value, headers=headers)\n",
    "    tree = html.fromstring(test.content)\n",
    "    testpath = tree.xpath('//*[@id=\"north\"]/div[2]/ul/li[1]/a/@onclick')[0]\n",
    "    dcm_no = dcm_no = testpath.split(\", '\")[1].split(\"')\")[0]\n",
    "    \n",
    "    #다운로드를 위한 url은 보고서 url과 차이점이 몇 가지 있는데, replace를 통해 추가할 수 있어요\n",
    "    download_url = value.replace('dsaf001','pdf/download').replace('rcpNo','rcp_no')+\"&dcm_no=\"+dcm_no\n",
    "    print(key+\" \"+download_url+\" 다운 중... \"+str(n)+\" out of \"+str(len(urldict)))\n",
    "    \n",
    "    #dcm_no를 구했던 것과 같은 방법으로 첨부파일 다운로드 url을 추출합니다\n",
    "    dtest = requests.get(download_url, headers=headers)\n",
    "    dtree = html.fromstring(dtest.text)\n",
    "    \n",
    "    #각 보고서 당 복수의 첨부파일이 존재하는데, 첨부파일 이름과 함께 저장하기 위해 downloadpath라는 dict를 사용했습니다\n",
    "    downloadpath={}\n",
    "    keys = dtree.xpath('/html/body/div/div/table/tr/td[1]/text()')\n",
    "    key_links = dtree.xpath('/html/body/div/div/table/tr/td/a/@href')\n",
    "    for key2, link in zip(keys, key_links):\n",
    "        l = \"http://dart.fss.or.kr\"+link\n",
    "        k = key2.replace(\")\",\"\")\n",
    "        downloadpath[k] = l\n",
    "    #print(downloadpath)\n",
    "        \n",
    "    #utils에 있는 download_file을 이요해 디렉토리를 만들고 그 안에다가 파일을 집어넣습니다\n",
    "    for key2, link in downloadpath.items():\n",
    "        download_file(link,filename=key2,directory=\"dart_\"+name_input+\"/\"+key)\n",
    "        #try:\n",
    "            #os.mkdir(key)\n",
    "        #except:\n",
    "            #pass\n",
    "        #call(['curl',link,'-o',key+'/'+key2])\n",
    "    n+=1"
   ]
  },
  {
   "cell_type": "markdown",
   "metadata": {},
   "source": [
    "#### 마지막으로 파일 탐색기를 열어 다운로드받은 파일을 확인합니다. "
   ]
  },
  {
   "cell_type": "code",
   "execution_count": 15,
   "metadata": {},
   "outputs": [],
   "source": [
    "yesno = input('파일 다운로드가 완료되었습니다. 파일 탐색기를 열어 확인하시겠습니까? (y/n)  ')\n",
    "\n",
    "if yesno.startswith('y'):\n",
    "    call(['explorer','dart_'+name_input])"
   ]
  },
  {
   "cell_type": "code",
   "execution_count": null,
   "metadata": {
    "collapsed": true
   },
   "outputs": [],
   "source": []
  }
 ],
 "metadata": {
  "kernelspec": {
   "display_name": "Python 3",
   "language": "python",
   "name": "python3"
  },
  "language_info": {
   "codemirror_mode": {
    "name": "ipython",
    "version": 3
   },
   "file_extension": ".py",
   "mimetype": "text/x-python",
   "name": "python",
   "nbconvert_exporter": "python",
   "pygments_lexer": "ipython3",
   "version": "3.6.2"
  }
 },
 "nbformat": 4,
 "nbformat_minor": 2
}
